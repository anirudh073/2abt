{
 "cells": [
  {
   "cell_type": "code",
   "execution_count": 1,
   "id": "e1aba12b-f5d2-4c0f-a94c-70f0153eee17",
   "metadata": {},
   "outputs": [],
   "source": [
    "from BanditAnalysisFunctions import*\n",
    "from scipy import stats\n",
    "%matplotlib qt"
   ]
  },
  {
   "cell_type": "code",
   "execution_count": 17,
   "id": "4b6d6047-40b9-42f9-bb40-9ab35f0a7ca8",
   "metadata": {},
   "outputs": [],
   "source": [
    "#all dfs:\n",
    "gronckle = pd.read_csv('sessdf1.csv')\n",
    "toothless = pd.read_csv('sessdf2.csv')\n",
    "brat = pd.read_csv('sessdf3.csv')\n",
    "grump = pd.read_csv('sessdf4.csv')\n",
    "\n",
    "gronckle_new = filter_by_time(pd.read_csv('df1_april.csv'))\n",
    "toothless_new = filter_by_time(pd.read_csv('df2_april.csv'))\n",
    "brat_new = filter_by_time(pd.read_csv('df3_april.csv'))\n",
    "brat_new = brat_new[brat_new['session#']<150]\n",
    "grump_new = filter_by_time(pd.read_csv('df4_april.csv'))\n",
    "\n",
    "# aggro = sessdf_unstr('Aggro', r'C:\\Users\\dlab\\Downloads\\AutoTrainerModular\\New folder\\Aggro', 83)\n",
    "# auroma = sessdf_unstr('Auroma', r'C:\\Users\\dlab\\Downloads\\AutoTrainerModular\\New folder\\Auroma', 83)\n",
    "# buffalord = sessdf_str('Buffalord', r'C:\\Users\\dlab\\Downloads\\AutoTrainerModular\\New folder\\Buffalord', 84)\n",
    "# bewilderbeast =  sessdf_str('Bewilderbeast', r'C:\\Users\\dlab\\Downloads\\AutoTrainerModular\\New folder\\Bewilderbeast', 84)\n",
    "\n",
    "aggro = pd.read_csv('aggro.csv')\n",
    "auroma = pd.read_csv('auroma.csv')\n",
    "buffalord = pd.read_csv('buffalord.csv')\n",
    "bewilderbeast = pd.read_csv('bewilderbeast.csv')"
   ]
  },
  {
   "cell_type": "code",
   "execution_count": 30,
   "id": "170d70e9-4ec9-4ce5-b03b-5ca1f98c4d59",
   "metadata": {},
   "outputs": [
    {
     "data": {
      "text/plain": [
       "1.0961684851560518"
      ]
     },
     "execution_count": 30,
     "metadata": {},
     "output_type": "execute_result"
    }
   ],
   "source": [
    "np.mean(brat_new.port)"
   ]
  },
  {
   "cell_type": "code",
   "execution_count": 60,
   "id": "d1b18ea4-8471-4659-8e1c-29b721585242",
   "metadata": {},
   "outputs": [],
   "source": [
    "# aggro.to_csv('aggro.csv')\n",
    "# auroma.to_csv('auroma.csv')\n",
    "# buffalord.to_csv('buffalord.csv')\n",
    "# bewilderbeast.to_csv('bewilderbeast.csv')"
   ]
  },
  {
   "cell_type": "code",
   "execution_count": 3,
   "id": "a964417b-9408-4b88-abea-500b59b0dbab",
   "metadata": {},
   "outputs": [
    {
     "data": {
      "text/plain": [
       "\u001b[1;31mSignature:\u001b[0m \u001b[0mhard_regret\u001b[0m\u001b[1;33m(\u001b[0m\u001b[0mdf\u001b[0m\u001b[1;33m,\u001b[0m \u001b[0mmin_length\u001b[0m\u001b[1;33m,\u001b[0m \u001b[0mxlim\u001b[0m\u001b[1;33m)\u001b[0m\u001b[1;33m\u001b[0m\u001b[1;33m\u001b[0m\u001b[0m\n",
       "\u001b[1;31mDocstring:\u001b[0m <no docstring>\n",
       "\u001b[1;31mFile:\u001b[0m      c:\\users\\dlab\\downloads\\autotrainermodular\\banditanalysisfunctions.py\n",
       "\u001b[1;31mType:\u001b[0m      function"
      ]
     },
     "metadata": {},
     "output_type": "display_data"
    }
   ],
   "source": [
    "hard_regret?"
   ]
  },
  {
   "cell_type": "code",
   "execution_count": null,
   "id": "24c39fa0-a9e4-478b-a450-edc4f9c75089",
   "metadata": {},
   "outputs": [],
   "source": [
    "# Across animals:"
   ]
  },
  {
   "cell_type": "code",
   "execution_count": 5,
   "id": "dc3a70aa-aba6-4bef-a801-b991d92b3823",
   "metadata": {},
   "outputs": [
    {
     "name": "stdout",
     "output_type": "stream",
     "text": [
      "56\n",
      "114\n"
     ]
    }
   ],
   "source": [
    "# 1. df, split by difficulty\n",
    "df = aggro\n",
    "title = 'aggro_unstr'\n",
    "x_lim = 200\n",
    "df_e = df[abs(df['rewprobfull1']-df['rewprobfull2'])>=50]\n",
    "df_h = df[abs(df['rewprobfull1']-df['rewprobfull2'])<=40]\n",
    "fig, ax = plt.subplots(layout = 'tight')\n",
    "ax.plot(range(x_lim), hard_regret(df_e, x_lim, x_lim), 'g')\n",
    "ax.plot(range(x_lim), hard_regret(df_h, x_lim, x_lim), 'r')\n",
    "ax.set(xlabel = 'trial#', ylabel = 'hard regret')\n",
    "plt.title(title)\n",
    "plt.legend(['easy', 'hard'])\n",
    "sns.despine()\n",
    "plt.show()\n"
   ]
  },
  {
   "cell_type": "code",
   "execution_count": 39,
   "id": "1eb2acaf-1d83-49c4-9b00-7f8afa1160c6",
   "metadata": {
    "scrolled": true
   },
   "outputs": [
    {
     "name": "stdout",
     "output_type": "stream",
     "text": [
      "176\n",
      "176\n",
      "142\n",
      "142\n",
      "171\n",
      "171\n",
      "50\n",
      "50\n",
      "23\n",
      "23\n",
      "28\n",
      "28\n"
     ]
    },
    {
     "data": {
      "text/plain": [
       "<ErrorbarContainer object of 3 artists>"
      ]
     },
     "execution_count": 39,
     "metadata": {},
     "output_type": "execute_result"
    }
   ],
   "source": [
    "#inter-animal reg:\n",
    "x_lim = 150\n",
    "ylim = [0.1, 0.55]\n",
    "# n_sess = 0\n",
    "window = 10\n",
    "# animal = [toothless, toothless_new]\n",
    "# df_list = [subset_difference(gronckle, 'hard'), subset_difference(toothless, 'hard'), subset(subset_difference(brat, 'hard')), subset(subset_difference(grump, 'hard'))]\n",
    "# df_list = [subset(gronckle_new), subset(toothless_new), brat_new, grump_new]\n",
    "# df_list = [subset(subset_difference(aggro, 'hard')), subset_difference(buffalord[buffalord['session#']<100], 'hard')]\n",
    "# df_list = [(animal[0][animal[0]['session#']>100]), subset(animal[1][animal[1]['session#']<450])]\n",
    "# df_list = [subset(brat), subset(grump), subset(aggro), gronckle[gronckle['session#']<n_sess], toothless[toothless['session#']<n_sess], buffalord[buffalord['session#']<n_sess]]\n",
    "# df_list_str = [buffalord[buffalord['datetime']<np.datetime64('2024-06-06')], bewilderbeast[bewilderbeast['datetime']<np.datetime64('2024-06-06')]]\n",
    "# df_list_ustr = [subset(aggro[aggro['datetime']<np.datetime64('2024-06-06')]), subset(auroma[auroma['datetime']<np.datetime64('2024-06-06')])]\n",
    "df_list_str = [gronckle, toothless, grump_new]\n",
    "df_list_ustr = [gronckle_new, toothless_new, grump]\n",
    "\n",
    "fig, ax = plt.subplots(layout= 'tight')\n",
    "# color = ['g', '#00ff00', 'r', '#ff0000']\n",
    "color_str = ['g', '#009900', '#007700', 'g']\n",
    "color_ustr = ['r', '#990000', '#770000', 'r']\n",
    "# color = ['#ff0000', '#990000', 'r', 'g', '#00ff00', '#009900']\n",
    "\n",
    "c = 0\n",
    "# titles = ['Gronckle', 'Toothless', 'Brat', 'Grump']\n",
    "regret_list_str, regret_list_ustr = [], []\n",
    "for df in df_list_str:\n",
    "    df = (df)\n",
    "    ax.plot(range(x_lim), pd.DataFrame(hard_regret(df, x_lim, x_lim)).rolling(window, center = True).mean(numeric_only = True), color_str[c], linewidth = 0)\n",
    "    c += 1\n",
    "    ax.set(xlabel = 'trial#', ylabel = 'hard regret')\n",
    "    # plt.legend(['brat', 'grump', 'aggro', 'gronckle', 'toothless', 'buffalord'])\n",
    "    ax.set(ylim = ylim)\n",
    "    sns.despine()\n",
    "    regret_list_str.append(pd.DataFrame(hard_regret(df, x_lim, x_lim)).rolling(window, center = True).mean(numeric_only = True).values)\n",
    "c = 0\n",
    "\n",
    "\n",
    "for df in df_list_ustr:\n",
    "    df = subset(df)\n",
    "    ax.plot(range(x_lim), pd.DataFrame(hard_regret(df, x_lim, x_lim)).rolling(window, center = True).mean(numeric_only = True), color_ustr[c], linewidth = 0)\n",
    "    c += 1\n",
    "    ax.set(xlabel = 'trial#', ylabel = 'hard regret')\n",
    "    # plt.legend(['brat', 'grump', 'aggro', 'gronckle', 'toothless', 'buffalord'])\n",
    "    ax.set(ylim = ylim)\n",
    "    sns.despine()\n",
    "    regret_list_ustr.append(pd.DataFrame(hard_regret(df, x_lim, x_lim)).rolling(window, center = True).mean(numeric_only = True).values)\n",
    "\n",
    "ax.plot(range(x_lim), np.mean(regret_list_str, axis = 0), 'g', linewidth = 1.5)\n",
    "ax.plot(range(x_lim), np.mean(regret_list_ustr, axis = 0), 'r', linewidth = 1.5)\n",
    "plt.legend(['strucured', 'unstructured'])\n",
    "ax.errorbar(x = range(x_lim), y = np.mean(regret_list_str, axis = 0).flatten(), yerr = stats.sem(regret_list_str).flatten(), color = 'g' , elinewidth = 0.2)\n",
    "ax.errorbar(x = range(x_lim), y = np.mean(regret_list_ustr, axis = 0).flatten(), yerr = stats.sem(regret_list_ustr).flatten(), color = 'r', elinewidth = 0.2)"
   ]
  },
  {
   "cell_type": "code",
   "execution_count": 96,
   "id": "650f167a-3ed0-4b64-850f-5c20778496a2",
   "metadata": {
    "scrolled": true
   },
   "outputs": [
    {
     "data": {
      "text/plain": [
       "array([       nan,        nan, 0.48199559, 0.47680329, 0.46590089,\n",
       "       0.45436191, 0.43516988, 0.41558355, 0.39924657, 0.38205925,\n",
       "       0.36966994, 0.36022593, 0.34513358, 0.32764223, 0.32609357,\n",
       "       0.31455459, 0.31540493, 0.32044522, 0.3178942 , 0.32068749,\n",
       "       0.32487744, 0.3254855 , 0.32688215, 0.32572778, 0.32153783,\n",
       "       0.31719587, 0.30626496, 0.30083039, 0.29539581, 0.28370482,\n",
       "       0.28145783, 0.28091153, 0.28176187, 0.28182362, 0.2777857 ,\n",
       "       0.27119675, 0.26375746, 0.26236081, 0.2618145 , 0.26142021,\n",
       "       0.26142021, 0.26436552, 0.26561015, 0.27250314, 0.27435583,\n",
       "       0.27326322, 0.27651256, 0.26876924, 0.2660662 ,        nan])"
      ]
     },
     "execution_count": 96,
     "metadata": {},
     "output_type": "execute_result"
    }
   ],
   "source": [
    "# (stats.sem(regret_list_str)).shape\n",
    "np.mean(regret_list_str, axis = 0).flatten()"
   ]
  },
  {
   "cell_type": "code",
   "execution_count": 7,
   "id": "e70ec002-a338-4dc9-89d7-ec138513e90b",
   "metadata": {
    "scrolled": true
   },
   "outputs": [
    {
     "data": {
      "text/plain": [
       "22"
      ]
     },
     "execution_count": 7,
     "metadata": {},
     "output_type": "execute_result"
    }
   ],
   "source": [
    "sub = subset(brat)\n",
    "len(pd.unique(sub['session#']))"
   ]
  },
  {
   "cell_type": "code",
   "execution_count": 3,
   "id": "5ce57593-f5c3-446a-a238-cc4b3cc4a413",
   "metadata": {
    "scrolled": true
   },
   "outputs": [],
   "source": [
    "#combine dataframes:\n",
    "pd.options.display.max_rows = 200\n",
    "g_copy_new = subset(gronckle_new).copy() \n",
    "g_copy_new['session#'] += 194\n",
    "\n",
    "gronckle_com = pd.concat([gronckle, g_copy_new], ignore_index = True)\n",
    "t_copy_new = subset(toothless_new).copy()\n",
    "t_copy_new['session#'] += 177\n",
    "\n",
    "toothless_com = pd.concat([toothless, t_copy_new], ignore_index = True)\n",
    "b_copy_new = brat_new[brat_new['session#']<200].copy()\n",
    "b_copy_new['session#'] += 22\n",
    "\n",
    "brat_com = pd.concat([subset(brat), b_copy_new], ignore_index = True)\n",
    "gr_copy_new = grump_new.\n",
    "copy()\n",
    "gr_copy_new['session#'] += 161\n",
    "\n",
    "grump_com = pd.concat([subset(grump), gr_copy_new], ignore_index = True)"
   ]
  },
  {
   "cell_type": "code",
   "execution_count": 26,
   "id": "7ce6e255-89c0-4b6d-9b41-67e05d99473f",
   "metadata": {
    "scrolled": true
   },
   "outputs": [
    {
     "data": {
      "text/plain": [
       "274"
      ]
     },
     "execution_count": 26,
     "metadata": {},
     "output_type": "execute_result"
    }
   ],
   "source": [
    "dat = bewilderbeast\n",
    "len(pd.unique(gronckle_com['session#']))"
   ]
  },
  {
   "cell_type": "code",
   "execution_count": 27,
   "id": "a83f9be4-3448-49ac-b4e3-b2e854e875d9",
   "metadata": {
    "scrolled": true
   },
   "outputs": [],
   "source": [
    "longitudinal(dat[dat['session#']>0], 'g', window = 50, title = 'toothless', subset = False, condition= 'all', hline = 0\n",
    "            ) #alternative is to use cummulative regret"
   ]
  },
  {
   "cell_type": "code",
   "execution_count": 36,
   "id": "ebf5daeb-2a5c-4bcf-b673-f347531bbf32",
   "metadata": {
    "scrolled": true
   },
   "outputs": [
    {
     "data": {
      "text/plain": [
       "[<matplotlib.lines.Line2D at 0x1bda067f410>]"
      ]
     },
     "execution_count": 36,
     "metadata": {},
     "output_type": "execute_result"
    }
   ],
   "source": [
    "#reward rate\n",
    "df_list_str = [grump_new, brat_new[brat_new['session#']<100]]\n",
    "df_list_ustr = [subset(grump), subset(brat)]\n",
    "\n",
    "# df_list_str = [gronckle, toothless]\n",
    "# df_list_ustr = [subset(grump), subset(brat)]\n",
    "window = 20\n",
    "min_len = 0\n",
    "maximum = 150\n",
    "xlim = [0, maximum]\n",
    "fig, ax = plt.subplots(layout = 'tight')\n",
    "c = 0\n",
    "color_str = ['g', '#009900', '#005500' , '#003300']\n",
    "color_ustr = ['r', '#990000', '#550000', '#330000']\n",
    "rewards_mav_list_str = []\n",
    "rewards_mav_list_ustr = []\n",
    "for df in df_list_str:\n",
    "    df = df.groupby('session#').filter(lambda x: len(x['trial#'])>min_len)\n",
    "    sess_list = []\n",
    "    for i in range(max(pd.unique(df['session#']))):\n",
    "        sess_list.append(df[df['session#'] == (i+1)]['reward'].reset_index(drop = True))\n",
    "    df_rewards = pd.concat(sess_list, axis = 1)\n",
    "    rewards_mav = df_rewards.mean(axis = 1).rolling(window, center = True).mean()    \n",
    "    ax.plot(range(len(rewards_mav)), rewards_mav, color_str[c], linewidth = 0.5)\n",
    "    ax.set(xlabel = 'trial#', ylabel = 'reward rate', ylim = [0.5, 0.75],  xlim = xlim)\n",
    "    # plt.title(title)\n",
    "    sns.despine()\n",
    "    c += 1\n",
    "    rewards_mav_list_str.append(rewards_mav[:maximum])\n",
    "c = 0\n",
    "for df in df_list_ustr:\n",
    "\n",
    "    \n",
    "    df = df.groupby('session#').filter(lambda x: len(x['trial#'])>min_len)\n",
    "    sess_list = []\n",
    "    for i in range(max(pd.unique(df['session#']))):\n",
    "        sess_list.append(df[df['session#'] == (i+1)]['reward'].reset_index(drop = True))\n",
    "    df_rewards = pd.concat(sess_list, axis = 1)\n",
    "    rewards_mav = df_rewards.mean(axis = 1).rolling(window, center = True).mean()    \n",
    "    ax.plot(range(len(rewards_mav)), rewards_mav, color_ustr[c], linewidth = 0.5)\n",
    "    ax.set(xlabel = 'trial#', ylabel = 'reward rate', ylim = [0.525, 0.75],  xlim = xlim)\n",
    "    # plt.title(title)\n",
    "    sns.despine()\n",
    "    c += 1\n",
    "    rewards_mav_list_ustr.append(rewards_mav[:maximum])\n",
    "ax.plot(range(len(rewards_mav[:maximum])), np.mean(rewards_mav_list_str, axis = 0), color = 'g', linewidth = 1.5)\n",
    "ax.plot(range(len(rewards_mav[:maximum])), np.mean(rewards_mav_list_ustr, axis = 0), color = 'r', linewidth = 1.5)\n",
    "# ax.errorbar(x = range(len(rewards_mav[:maximum])), y = np.mean(rewards_mav_list_str, axis = 0), yerr = stats.sem(rewards_mav_list_str), color = 'g', elinewidth = 0.3)\n",
    "# ax.errorbar(x = range(len(rewards_mav[:maximum])), y = np.mean(rewards_mav_list_ustr, axis = 0), yerr = stats.sem(rewards_mav_list_ustr), color = 'r', elinewidth = 0.3)"
   ]
  },
  {
   "cell_type": "code",
   "execution_count": 23,
   "id": "bea95f21-9bae-447d-8299-78ebd13e317b",
   "metadata": {
    "collapsed": true,
    "jupyter": {
     "outputs_hidden": true
    },
    "scrolled": true
   },
   "outputs": [
    {
     "data": {
      "text/plain": [
       "[0        NaN\n",
       " 1        NaN\n",
       " 2        NaN\n",
       " 3        NaN\n",
       " 4        NaN\n",
       "         ... \n",
       " 1543    0.68\n",
       " 1544    0.68\n",
       " 1545    0.72\n",
       " 1546    0.72\n",
       " 1547    0.72\n",
       " Length: 1548, dtype: float64,\n",
       " 0       NaN\n",
       " 1       NaN\n",
       " 2       NaN\n",
       " 3       NaN\n",
       " 4       NaN\n",
       "        ... \n",
       " 1785    0.2\n",
       " 1786    0.2\n",
       " 1787    0.2\n",
       " 1788    0.2\n",
       " 1789    0.2\n",
       " Length: 1790, dtype: float64]"
      ]
     },
     "execution_count": 23,
     "metadata": {},
     "output_type": "execute_result"
    }
   ],
   "source": [
    "rewards_mav_list_str"
   ]
  },
  {
   "cell_type": "code",
   "execution_count": 43,
   "id": "08d76a33-05f9-4c85-a824-d04ee913d547",
   "metadata": {},
   "outputs": [],
   "source": [
    "from scipy import stats"
   ]
  },
  {
   "cell_type": "code",
   "execution_count": 54,
   "id": "8d63e3fe-bfa5-470b-936f-941f20dfbf67",
   "metadata": {
    "scrolled": true
   },
   "outputs": [
    {
     "data": {
      "text/plain": [
       "array([       nan,        nan,        nan,        nan,        nan,\n",
       "              nan, 0.00743566, 0.0048467 , 0.00302861, 0.00645912,\n",
       "       0.0020108 , 0.00035315, 0.00096809, 0.00606302, 0.00308289,\n",
       "       0.00325158, 0.00488498, 0.00202961, 0.00216673, 0.0006861 ,\n",
       "       0.00568253, 0.00410866, 0.00288994, 0.00123711, 0.00082277,\n",
       "       0.00041556, 0.00603736, 0.0092166 , 0.00956707, 0.01198687,\n",
       "       0.01101937, 0.00882271, 0.01424609, 0.01622359, 0.01385432,\n",
       "       0.01142898, 0.01332645, 0.01420476, 0.01179198, 0.01297993,\n",
       "       0.01371571, 0.01340848, 0.0175333 , 0.01974925, 0.01959972,\n",
       "       0.02299862, 0.02714768, 0.02796236, 0.03022965, 0.02956117,\n",
       "       0.03195446, 0.03177777, 0.03335285, 0.03700666, 0.03715789,\n",
       "       0.03705852, 0.03826744, 0.03614683, 0.03489827, 0.03637665,\n",
       "       0.03432   , 0.03402641, 0.03277864, 0.02866086, 0.024862  ,\n",
       "       0.01858746, 0.01609343, 0.01416019, 0.01534142, 0.01016283,\n",
       "       0.01313513, 0.01422358, 0.0143544 , 0.01548805, 0.01576874,\n",
       "       0.02218097, 0.02600891, 0.03077739, 0.03207025, 0.02992936,\n",
       "       0.02754176, 0.03250506, 0.02737504, 0.02880085, 0.02648581,\n",
       "       0.03024282, 0.02788891, 0.02160282, 0.02001519, 0.02115287,\n",
       "       0.02218265, 0.02138432, 0.01938959, 0.01819143, 0.02023414,\n",
       "       0.01623492, 0.01668953, 0.01093268, 0.01424031, 0.01744546,\n",
       "       0.02004166, 0.02608319, 0.02973195, 0.0354709 , 0.04021755,\n",
       "       0.04769314, 0.05022686, 0.05323467, 0.05369545, 0.05986073,\n",
       "       0.06573384, 0.06656553, 0.05928859, 0.05668097, 0.05372866,\n",
       "       0.0529727 , 0.04620931, 0.03374637, 0.03658224, 0.03257136,\n",
       "       0.03589336, 0.03794766, 0.02647931, 0.02676413, 0.02946999,\n",
       "       0.02731704, 0.02987917, 0.02716325, 0.03211646, 0.03664041,\n",
       "       0.03786007, 0.04354632, 0.04573666, 0.0368237 , 0.04383225,\n",
       "       0.04306624, 0.05271839, 0.05218091, 0.04537453, 0.0548655 ,\n",
       "       0.05631481, 0.04647567, 0.04709405, 0.03989219, 0.02551189,\n",
       "       0.03514787, 0.021629  , 0.02200662, 0.01967248, 0.01348188])"
      ]
     },
     "execution_count": 54,
     "metadata": {},
     "output_type": "execute_result"
    }
   ],
   "source": [
    "(stats.sem(rewards_mav_list_str, axis = 0))"
   ]
  },
  {
   "cell_type": "code",
   "execution_count": 58,
   "id": "8cf0128f-4e92-47bf-b48e-65c17e18a8bc",
   "metadata": {
    "scrolled": true
   },
   "outputs": [
    {
     "data": {
      "text/plain": [
       "[0           NaN\n",
       " 1           NaN\n",
       " 2           NaN\n",
       " 3           NaN\n",
       " 4           NaN\n",
       "          ...   \n",
       " 145    0.639968\n",
       " 146    0.668330\n",
       " 147    0.666929\n",
       " 148    0.678996\n",
       " 149    0.694079\n",
       " Length: 150, dtype: float64,\n",
       " 0           NaN\n",
       " 1           NaN\n",
       " 2           NaN\n",
       " 3           NaN\n",
       " 4           NaN\n",
       "          ...   \n",
       " 145    0.710264\n",
       " 146    0.711588\n",
       " 147    0.710943\n",
       " 148    0.718341\n",
       " 149    0.721042\n",
       " Length: 150, dtype: float64]"
      ]
     },
     "execution_count": 58,
     "metadata": {},
     "output_type": "execute_result"
    }
   ],
   "source": [
    "rewards_mav_list_str"
   ]
  },
  {
   "cell_type": "code",
   "execution_count": 57,
   "id": "249446ea-6a5e-4190-bba4-896fcaeb6d4a",
   "metadata": {},
   "outputs": [
    {
     "data": {
      "text/plain": [
       "20.954315386891867"
      ]
     },
     "execution_count": 57,
     "metadata": {},
     "output_type": "execute_result"
    }
   ],
   "source": [
    "a = [1, 2, 67, 80]\n",
    "b = [1,2,44,51]\n",
    "stats.sem(a)"
   ]
  },
  {
   "cell_type": "code",
   "execution_count": 171,
   "id": "a41d3ebe-ae27-4ce1-8f50-d5dd82bf188e",
   "metadata": {
    "jupyter": {
     "source_hidden": true
    }
   },
   "outputs": [],
   "source": [
    "def bias_plot(sessdf, min_length = 100, tail = 50): ## doesn't work || Dividing by zero error\n",
    "    #fraction of choices where port 1 was selected, given contrasts ranging from -80 to +80\n",
    "    sessdf_c = sessdf.groupby(\"session#\").filter(lambda x: len(x[\"trial#\"])>min_length).groupby('session#').tail(tail)\n",
    "    sessdf_c.groupby('session#').mean(numeric_only = True)\n",
    "    c1, c2 = sessdf_c[(sessdf_c['rewprobfull1']-sessdf_c['rewprobfull2'])==-80] , sessdf_c[(sessdf_c['rewprobfull1']-sessdf_c['rewprobfull2'])==-60]\n",
    "    c3, c4 = sessdf_c[(sessdf_c['rewprobfull1']-sessdf_c['rewprobfull2'])==-40], sessdf_c[(sessdf_c['rewprobfull1']-sessdf_c['rewprobfull2'])==-20]\n",
    "    c5, c6 = sessdf_c[(sessdf_c['rewprobfull1']-sessdf_c['rewprobfull2'])==20], sessdf_c[(sessdf_c['rewprobfull1']-sessdf_c['rewprobfull2'])==40]\n",
    "    c7, c8 = sessdf_c[(sessdf_c['rewprobfull1']-sessdf_c['rewprobfull2'])==60], sessdf_c[(sessdf_c['rewprobfull1']-sessdf_c['rewprobfull2'])==80]\n",
    "    array = [c1, c2, c3, c4, c5, c6, c7, c8]\n",
    "    \n",
    "    for i, df in enumerate(array): # prevent zero division error\n",
    "        if (len(df) == 0): #| (len(pd.unique(df['session#']))<2):\n",
    "            array[i] = pd.DataFrame({'port':np.zeros(10000)}) # dividing by a large number to return zero \n",
    "\n",
    "    C1, C2, C3, C4, C5, C6, C7, C8 = len(c1[c1['port']==1])/len(array[0]), len(c2[c2['port']==1])/len(array[1]), len(c3[c3['port']==1])/len(array[2]) ,len(c4[c4['port']==1])/len(array[3]),len(c5[c5['port']==1])/len(array[4]),len(c6[c6['port']==1])/len(array[5]),len(c7[c7['port']==1])/len(array[6]),len(c8[c8['port']==1])/len(array[7]) #ignore any values that are undefined due to zero division?\n",
    "    fig, ax = plt.subplots(figsize = (6,6))\n",
    "    ax.plot( [-80, -60, -40, -20, 20, 40, 60, 80], np.multiply([C1, C2, C3, C4, C5, C6, C7, C8], np.ones(8)*100), 'b')\n",
    "    ax.plot(np.ones(100)*0, range(100), 'k', linewidth = 0.4)\n",
    "    ax.plot([-80, -60, -40, -20, 20, 40, 60, 80], np.ones(8)*50, 'k', linewidth = 0.4)\n",
    "    plt.xlabel('contrast (port1-port2)')\n",
    "    plt.ylabel('% choose port 1')\n",
    "    plt.xticks((-80, -60, -40, -20, 20, 40, 60, 80))\n",
    "    plt.yticks(np.arange(0, 105, step = 5))\n",
    "    plt.ylim(0, 105)\n",
    "    sns.despine()"
   ]
  },
  {
   "cell_type": "code",
   "execution_count": 141,
   "id": "2f97277c-267e-479d-adf4-bb29fe53183e",
   "metadata": {},
   "outputs": [],
   "source": [
    "df_list = [gronckle, toothless, brat, grump]\n",
    "for df in df_list:\n",
    "    bias_plot(df)"
   ]
  },
  {
   "cell_type": "code",
   "execution_count": 192,
   "id": "9e75a377-e1a2-4f9a-9c8e-352953439e2d",
   "metadata": {},
   "outputs": [],
   "source": [
    "bias_plot(subset(brat_new[brat_new['session#']<200]))"
   ]
  },
  {
   "cell_type": "code",
   "execution_count": 190,
   "id": "fe7d90bc-95bd-4515-8c21-f7baf28e3c86",
   "metadata": {},
   "outputs": [
    {
     "data": {
      "text/plain": [
       "42.553743820495264"
      ]
     },
     "execution_count": 190,
     "metadata": {},
     "output_type": "execute_result"
    }
   ],
   "source": [
    "np.mean(subset(brat_new).rewprobfull1)"
   ]
  },
  {
   "cell_type": "code",
   "execution_count": 70,
   "id": "01ab4fae-332a-4d1f-b3ee-ab51ba21826d",
   "metadata": {},
   "outputs": [
    {
     "data": {
      "text/plain": [
       "\u001b[1;31mSignature:\u001b[0m \u001b[0mchoice_str\u001b[0m\u001b[1;33m(\u001b[0m\u001b[0msessdf\u001b[0m\u001b[1;33m,\u001b[0m \u001b[0mtrial_cutoff\u001b[0m\u001b[1;33m,\u001b[0m \u001b[0mn_plots\u001b[0m\u001b[1;33m)\u001b[0m\u001b[1;33m\u001b[0m\u001b[1;33m\u001b[0m\u001b[0m\n",
       "\u001b[1;31mDocstring:\u001b[0m <no docstring>\n",
       "\u001b[1;31mFile:\u001b[0m      c:\\users\\dlab\\downloads\\autotrainermodular\\banditanalysisfunctions.py\n",
       "\u001b[1;31mType:\u001b[0m      function"
      ]
     },
     "metadata": {},
     "output_type": "display_data"
    }
   ],
   "source": [
    "#choice plots\n",
    "%matplotlib qt\n",
    "choice_str?\n",
    "choice_str(gronckle, 50, 5)"
   ]
  },
  {
   "cell_type": "code",
   "execution_count": 20,
   "id": "74c2bb2c-963a-48c4-aa1d-c5ded7a27243",
   "metadata": {},
   "outputs": [],
   "source": [
    "def bias_plot(sessdf, min_length = 100, tail = 50): ## doesn't work || Dividing by zero error\n",
    "    #fraction of choices where port 1 was selected, given contrasts ranging from -80 to +80\n",
    "    sessdf_c = sessdf.groupby(\"session#\").filter(lambda x: len(x[\"trial#\"])>min_length).groupby('session#').tail(tail)\n",
    "    sessdf_c.groupby('session#').mean(numeric_only = True)\n",
    "    c1, c2 = sessdf_c[(sessdf_c['rewprobfull1']-sessdf_c['rewprobfull2'])==-80] , sessdf_c[(sessdf_c['rewprobfull1']-sessdf_c['rewprobfull2'])==-60]\n",
    "    c3, c4 = sessdf_c[(sessdf_c['rewprobfull1']-sessdf_c['rewprobfull2'])==-40], sessdf_c[(sessdf_c['rewprobfull1']-sessdf_c['rewprobfull2'])==-20]\n",
    "    c5, c6 = sessdf_c[(sessdf_c['rewprobfull1']-sessdf_c['rewprobfull2'])==20], sessdf_c[(sessdf_c['rewprobfull1']-sessdf_c['rewprobfull2'])==40]\n",
    "    c7, c8 = sessdf_c[(sessdf_c['rewprobfull1']-sessdf_c['rewprobfull2'])==60], sessdf_c[(sessdf_c['rewprobfull1']-sessdf_c['rewprobfull2'])==80]\n",
    "    array = [c1, c2, c3, c4, c5, c6, c7, c8]\n",
    "    \n",
    "    for i, df in enumerate(array): # prevent zero division error\n",
    "        if (len(df) == 0) | (len(pd.unique(df['session#']))<3): # dont consider df is number of sessions is less than 3\n",
    "            array[i] = pd.DataFrame({'port':np.zeros(10000)}) # dividing by a large number to return zero \n",
    "\n",
    "    C1, C2, C3, C4, C5, C6, C7, C8 = len(c1[c1['port']==1])/len(array[0]), len(c2[c2['port']==1])/len(array[1]), len(c3[c3['port']==1])/len(array[2]) ,len(c4[c4['port']==1])/len(array[3]),len(c5[c5['port']==1])/len(array[4]),len(c6[c6['port']==1])/len(array[5]),len(c7[c7['port']==1])/len(array[6]),len(c8[c8['port']==1])/len(array[7]) #ignore any values that are undefined due to zero division?\n",
    "    fig, ax = plt.subplots(figsize = (6,6))\n",
    "    ax.plot( [-80, -60, -40, -20, 20, 40, 60, 80], np.multiply([C1, C2, C3, C4, C5, C6, C7, C8], np.ones(8)*100), 'b')\n",
    "    ax.plot(np.ones(100)*0, range(100), 'k', linewidth = 0.4)\n",
    "    ax.plot([-80, -60, -40, -20, 20, 40, 60, 80], np.ones(8)*50, 'k', linewidth = 0.4)\n",
    "    plt.xlabel('contrast (port1-port2)')\n",
    "    plt.ylabel('% choose port 1')\n",
    "    plt.xticks((-80, -60, -40, -20, 20, 40, 60, 80))\n",
    "    plt.yticks(np.arange(0, 105, step = 5))\n",
    "    plt.ylim(0, 105)\n",
    "    sns.despine()\n",
    "\n",
    "    return np.multiply([C1, C2, C3, C4, C5, C6, C7, C8], np.ones(8)*100)"
   ]
  },
  {
   "cell_type": "code",
   "execution_count": 21,
   "id": "00e12619-1c53-4a57-a5cb-040a5e3a8902",
   "metadata": {},
   "outputs": [],
   "source": [
    "#bias_plots\n",
    "aggro_bias = bias_plot(aggro)\n",
    "auroma_bias = bias_plot(auroma)\n",
    "buffalord_bias = bias_plot(buffalord)\n",
    "bewilderbeast_bias = bias_plot(bewilderbeast)"
   ]
  },
  {
   "cell_type": "code",
   "execution_count": 30,
   "id": "ed28f77c-e4bc-403e-95b0-9cff6c833d83",
   "metadata": {},
   "outputs": [],
   "source": [
    "    fig, ax = plt.subplots(figsize = (6,6))\n",
    "    ax.plot( [-80, -60, -40, -20, 20, 40, 60, 80],aggro_bias, '#0011ff')\n",
    "    ax.plot( [-80, -60, -40, -20, 20, 40, 60, 80],auroma_bias, '#5566ff')\n",
    "    ax.plot( [-80, -60, -40, -20, 20, 40, 60, 80],buffalord_bias, '#22aaff')\n",
    "    ax.plot( [-80, -60, -40, -20, 20, 40, 60, 80],bewilderbeast_bias, '#55ddff')\n",
    "    ax.plot(np.ones(100)*0, range(100), 'k', linewidth = 0.4)\n",
    "    ax.plot([-80, -60, -40, -20, 20, 40, 60, 80], np.ones(8)*50, 'k', linewidth = 0.4)\n",
    "    ax.legend(['aggro', 'auroma', 'buffalord', 'bewilderbeast'])\n",
    "    plt.xlabel('contrast (port1-port2)')\n",
    "    plt.ylabel('% choose port 1')\n",
    "    plt.xticks((-80, -60, -40, -20, 20, 40, 60, 80))\n",
    "    plt.yticks(np.arange(0, 105, step = 5))\n",
    "    plt.ylim(0, 105)\n",
    "    sns.despine()"
   ]
  },
  {
   "cell_type": "code",
   "execution_count": 35,
   "id": "2dd2afa4-6c0f-4ee7-a45a-6a1897b5afe5",
   "metadata": {},
   "outputs": [
    {
     "data": {
      "text/plain": [
       "array([ 6.71428571,  7.67857143, 18.03636364, 29.46875   , 74.5       ,\n",
       "       94.93617021, 97.74285714, 98.80597015])"
      ]
     },
     "execution_count": 35,
     "metadata": {},
     "output_type": "execute_result"
    }
   ],
   "source": [
    "bias_plot(grump_new)"
   ]
  },
  {
   "cell_type": "code",
   "execution_count": null,
   "id": "0ac3c723-5bd1-4d5a-95dc-b88aecd40c68",
   "metadata": {},
   "outputs": [],
   "source": []
  }
 ],
 "metadata": {
  "kernelspec": {
   "display_name": "Python 3 (ipykernel)",
   "language": "python",
   "name": "python3"
  },
  "language_info": {
   "codemirror_mode": {
    "name": "ipython",
    "version": 3
   },
   "file_extension": ".py",
   "mimetype": "text/x-python",
   "name": "python",
   "nbconvert_exporter": "python",
   "pygments_lexer": "ipython3",
   "version": "3.11.4"
  },
  "widgets": {
   "application/vnd.jupyter.widget-state+json": {
    "state": {},
    "version_major": 2,
    "version_minor": 0
   }
  }
 },
 "nbformat": 4,
 "nbformat_minor": 5
}
