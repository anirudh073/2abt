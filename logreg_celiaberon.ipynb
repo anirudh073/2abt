{
 "cells": [
  {
   "cell_type": "code",
   "execution_count": 50,
   "id": "e191d728-f3c9-430b-9677-f7692a800e5a",
   "metadata": {},
   "outputs": [],
   "source": [
    "from BanditAnalysisFunctions import *\n",
    "import model_policies as models\n",
    "import resample_and_model_reps as reps\n",
    "import cprobs_functions as cprobs\n",
    "from sklearn.model_selection import train_test_split\n",
    "import plot_models_v_mouse as bp\n",
    "from scipy.stats import sem\n",
    "pd.options.display.max_columns = 50\n",
    "%matplotlib qt"
   ]
  },
  {
   "cell_type": "code",
   "execution_count": 4,
   "id": "88beafb2-0731-4125-b365-72f41b134ac9",
   "metadata": {},
   "outputs": [],
   "source": [
    "gronckle = pd.read_csv('sessdf1.csv')\n",
    "toothless = pd.read_csv('sessdf2.csv')\n",
    "brat = pd.read_csv('sessdf3.csv')\n",
    "grump = pd.read_csv('sessdf4.csv')\n",
    "aggro = pd.read_csv('aggro.csv')\n",
    "auroma = pd.read_csv('auroma.csv')\n",
    "buffalord = pd.read_csv('buffalord.csv')\n",
    "bewilderbeast = pd.read_csv('bewilderbeast.csv')"
   ]
  },
  {
   "cell_type": "code",
   "execution_count": 44,
   "id": "a16be98b-4411-4fa6-be6b-66f45bbccb2b",
   "metadata": {
    "jupyter": {
     "source_hidden": true
    }
   },
   "outputs": [],
   "source": [
    "def convert_to_bool(str):\n",
    "    '''\n",
    "    \n",
    "    input - str of length n\n",
    "    output - bool (1/0) number representing the upper/lowercase pattern of input str\n",
    "    '''\n",
    "    bool_string = ''\n",
    "    for e in str:\n",
    "        if e.isupper() == True:\n",
    "            bool_string += '1'\n",
    "        else: \n",
    "            bool_string += '0'\n",
    "\n",
    "    return bool_string"
   ]
  },
  {
   "cell_type": "code",
   "execution_count": 17,
   "id": "0d949bea-bfda-4383-bf92-52884e946713",
   "metadata": {
    "jupyter": {
     "source_hidden": true
    }
   },
   "outputs": [],
   "source": [
    "def plot_scatter(df_mouse, df_model):\n",
    "    \n",
    "    sns.set(style='ticks', font_scale=1.6, rc={'axes.labelsize':18, 'axes.titlesize':18})   \n",
    "    sns.set_palette('dark')\n",
    "    \n",
    "    plt.figure(figsize=(4,4))\n",
    "    plt.subplot(111, aspect='equal')\n",
    "    plt.scatter(df_mouse.pswitch, df_model.pswitch, alpha=0.6, edgecolor=None, linewidth=0)\n",
    "    plt.plot([0, 1], [0, 1], ':k')\n",
    "    \n",
    "    plt.xlabel('P(switch)$_{rat}$')\n",
    "    plt.ylabel('P(switch)')\n",
    "    plt.xticks(np.arange(0, 1.1, 0.5))\n",
    "    plt.yticks(np.arange(0, 1.1, 0.5))\n",
    "    \n",
    "    plt.tight_layout()\n",
    "    sns.despine()"
   ]
  },
  {
   "cell_type": "code",
   "execution_count": 57,
   "id": "effdde75-9bd0-4ca6-a81f-3e8ea997577b",
   "metadata": {
    "jupyter": {
     "source_hidden": true
    }
   },
   "outputs": [],
   "source": [
    "def sort_cprobs(conditional_probs, sorted_histories):\n",
    "    \n",
    "    '''\n",
    "    sort conditional probs by reference order for history sequences to use for plotting/comparison\n",
    "    \n",
    "    INPUTS:\n",
    "        - conditional_probs (pandas DataFrame): from calc_conditional_probs\n",
    "        - sorted_histories (list): ordered history sequences from reference conditional_probs dataframe\n",
    "    OUTPUTS:\n",
    "        - (pandas DataFrame): conditional_probs sorted by reference history order\n",
    "    '''\n",
    "    \n",
    "    from pandas.api.types import CategoricalDtype\n",
    "    \n",
    "    cat_history_order = CategoricalDtype(sorted_histories, ordered=True) # make reference history ordinal\n",
    "    \n",
    "    conditional_probs['history'] = conditional_probs['history'].astype(cat_history_order) # apply reference ordinal values to new df\n",
    "    \n",
    "    return conditional_probs.sort_values('history') # sort by reference ordinal values for history"
   ]
  },
  {
   "cell_type": "code",
   "execution_count": 63,
   "id": "3e48feb8-77de-4df9-9c71-de6f7aec83ea",
   "metadata": {},
   "outputs": [],
   "source": [
    "def group_by_reward(df_mouse_symm, symm_cprobs_model, cprobs_str, cprobs_ustr, cprobs_array_str, cprobs_array_ustr,  sort_order, comb_list = ['111', '110', '101', '100', '000', '001', '010', '011']):\n",
    "    '''\n",
    "    '''\n",
    "    sns.set_palette('deep')\n",
    "\n",
    "    cprobs_str_df = pd.DataFrame(data = {'history':sort_order, 'pswitch': cprobs_str})\n",
    "    cprobs_ustr_df = pd.DataFrame(data = {'history':sort_order, 'pswitch': cprobs_ustr})     \n",
    "\n",
    "    fig, ax = plt.subplots(2, 4, layout = 'tight', figsize = (15, 5))\n",
    "    fig.suptitle('model vs rat')\n",
    "\n",
    "    cprobs_str_df_bool = pd.DataFrame(data = {'history_bool': cprobs_str_df['history'].map(lambda x: convert_to_bool(x)), 'history':cprobs_str_df['history'] , 'pswitch':cprobs_str_df['pswitch']})     \n",
    "    cprobs_ustr_df_bool = pd.DataFrame(data = {'history_bool': cprobs_ustr_df['history'].map(lambda x: convert_to_bool(x)),'history': cprobs_ustr_df['history'] ,  'pswitch':cprobs_ustr_df['pswitch']})  \n",
    "    loc = [(0, 0), (0, 1), (0, 2), (0,3), (1, 0), (1, 1), (1, 2), (1,3)] #list of (row, column) tuples\n",
    "    i = 0\n",
    "    \n",
    "    for comb in comb_list:\n",
    "        row, column = loc[i][0], loc[i][1]\n",
    "        comb_str = cprobs_str_df_bool[cprobs_str_df_bool['history_bool']==comb].index.tolist()\n",
    "        comb_ustr = cprobs_str_df_bool[cprobs_ustr_df_bool['history_bool']==comb].index.tolist()\n",
    "        # print(cprobs_str_list[1][comb_str])\n",
    "\n",
    "        err_str = df_mouse_symm.pswitch_err[comb_str]\n",
    "        err_ustr = symm_cprobs_model.pswitch_err[comb_str]\n",
    "\n",
    "        df_str = sort_cprobs(cprobs_str_df_bool, ['AAA', 'ABB', 'ABA', 'AAB', 'AAa', 'ABb', 'ABa', 'AAb', 'AaA', 'AbB', 'AbA', 'AaB', 'Aaa', 'Abb', 'Aba', 'Aab', 'aaa', 'abb', 'aba', 'aab', 'aaA', 'abB', 'abA', 'aaB', 'aAa', 'aBb', 'aBa', 'aAb', 'aAA', 'aBB', 'aBA', 'aAB'])\n",
    "        df_ustr = sort_cprobs(cprobs_ustr_df_bool, ['AAA', 'ABB', 'ABA', 'AAB', 'AAa', 'ABb', 'ABa', 'AAb', 'AaA', 'AbB', 'AbA', 'AaB', 'Aaa', 'Abb', 'Aba', 'Aab', 'aaa', 'abb', 'aba', 'aab', 'aaA', 'abB', 'abA', 'aaB', 'aAa', 'aBb', 'aBa', 'aAb', 'aAA', 'aBB', 'aBA', 'aAB']) \n",
    "\n",
    "        ax[row][column].bar(x = (df_str[(df_str['history_bool'])== comb]).history, height = df_str[(df_str['history_bool'])==comb].pswitch, color = 'k', alpha = 0.4, yerr = err_str)\n",
    "        ax[row][column].bar(x = (df_ustr[(df_ustr['history_bool'])== comb]).history, height = df_ustr[(df_ustr['history_bool'])==comb].pswitch, color = sns.color_palette()[0], alpha = 0.8, yerr = err_ustr)\n",
    "        ax[row][column].set_ylim(bottom = 0)\n",
    "        ax[row][column].title.set_text(comb_list[i])\n",
    "        i+=1\n",
    "    \n",
    "        \n",
    "\n"
   ]
  },
  {
   "cell_type": "code",
   "execution_count": 5,
   "id": "f6f2c7aa-ab2d-43fb-82a1-ab5b1155fdd3",
   "metadata": {
    "jupyter": {
     "source_hidden": true
    },
    "scrolled": true
   },
   "outputs": [],
   "source": [
    "def add_cols(df, rat):\n",
    "    '''\n",
    "    modify df to make it compatible with celiaberon logreg code\n",
    "    add columns: blockTrial, blockLength, Target \n",
    "    modify column names\n",
    "    input: df, rat(str, eg. R1)\n",
    "    output: modified df\n",
    "    '''                                                                                                                                                                                                                                 \n",
    "    df = df.rename(columns = {'trial#':'Trial', 'port':'Decision', 'reward': 'Reward', 'session#':'Session'})\n",
    "    df['Decision'] = df['Decision'].replace({1:0, 2:1})\n",
    "    switches = abs(df['Decision'].shift(-1, ) - df['Decision'])\n",
    "    switches.iloc[-1] = 0\n",
    "    df.insert(4, 'Switch', switches )\n",
    "    #### insert blockTrials:\n",
    "    sessions = pd.unique(df['Session'])\n",
    "    df.insert(2, 'blockTrial', np.zeros(len(df)))\n",
    "    \n",
    "    for i, session in enumerate(sessions):\n",
    "        if i > 0:\n",
    "            blockTrial = df[df['Session'] == session]['Trial'].sub((np.ones(len(df[df['Session'] == session]))*max(df[df['Session'] == sessions[i-1]]['Trial'])))\n",
    "        elif i == 0:\n",
    "            blockTrial = df[df['Session']==session]['Trial']\n",
    "        df.loc[df['Session'] == session, ['blockTrial']] = blockTrial\n",
    "    \n",
    "    #### insert blockLength\n",
    "    df.insert(3, 'blockLength', np.zeros(len(df)))\n",
    "    \n",
    "    for session in sessions:\n",
    "        blockLength = np.ones(len(df[df['Session']==session]))*max(df[df['Session']==session]['blockTrial'])\n",
    "        df.loc[df['Session']==session, ['blockLength']] = blockLength\n",
    "    \n",
    "    #### insert Target\n",
    "    df.insert(4, 'Target', np.zeros(len(df)))\n",
    "    for session in sessions:\n",
    "        if np.mean(df[df['Session']== session]['rewprobfull1']) > np.mean(df[df['Session']== session]['rewprobfull2']):\n",
    "            target = 1\n",
    "        else:\n",
    "            target = 2\n",
    "        df.loc[df['Session']==session, ['Target']] = target\n",
    "    df['Session'] = df.Session.map(lambda x: rat + '_' + f'{x}')\n",
    "    df['Rat'] = rat\n",
    "    return df\n",
    "##target\n"
   ]
  },
  {
   "cell_type": "code",
   "execution_count": 7,
   "id": "5bf5546d-710f-4c3b-8050-ff3af44a067f",
   "metadata": {
    "scrolled": true
   },
   "outputs": [],
   "source": [
    "sessdf_all = pd.concat([add_cols(gronckle, 'R1'), add_cols(toothless, 'R2'), add_cols(brat, 'R3'), add_cols(grump, 'R4'), add_cols(buffalord, 'R5'), add_cols(bewilderbeast, 'R6'), add_cols(auroma, 'R7'), add_cols(aggro, 'R8') ])\n",
    "sessdf_str = pd.concat([add_cols(gronckle, 'R1'), add_cols(toothless, 'R2'), add_cols(buffalord, 'R5'), add_cols(bewilderbeast, 'R6')])\n",
    "sessdf_ustr = pd.concat([add_cols(brat, 'R3'), add_cols(grump, 'R4'), add_cols(auroma, 'R7'), add_cols(aggro, 'R8') ])"
   ]
  },
  {
   "cell_type": "code",
   "execution_count": 93,
   "id": "08b4b27b-e88a-43cb-88d0-d32ff2bd6d4a",
   "metadata": {
    "collapsed": true,
    "jupyter": {
     "outputs_hidden": true
    },
    "scrolled": true
   },
   "outputs": [
    {
     "data": {
      "text/html": [
       "<div>\n",
       "<style scoped>\n",
       "    .dataframe tbody tr th:only-of-type {\n",
       "        vertical-align: middle;\n",
       "    }\n",
       "\n",
       "    .dataframe tbody tr th {\n",
       "        vertical-align: top;\n",
       "    }\n",
       "\n",
       "    .dataframe thead th {\n",
       "        text-align: right;\n",
       "    }\n",
       "</style>\n",
       "<table border=\"1\" class=\"dataframe\">\n",
       "  <thead>\n",
       "    <tr style=\"text-align: right;\">\n",
       "      <th></th>\n",
       "      <th>Unnamed: 0</th>\n",
       "      <th>Trial</th>\n",
       "      <th>blockTrial</th>\n",
       "      <th>blockLength</th>\n",
       "      <th>Target</th>\n",
       "      <th>trialstart</th>\n",
       "      <th>Decision</th>\n",
       "      <th>Switch</th>\n",
       "      <th>Reward</th>\n",
       "      <th>trialend</th>\n",
       "      <th>Session</th>\n",
       "      <th>eptime</th>\n",
       "      <th>task</th>\n",
       "      <th>rewprobfull1</th>\n",
       "      <th>rewprobfull2</th>\n",
       "      <th>rw</th>\n",
       "      <th>animal</th>\n",
       "      <th>datetime</th>\n",
       "      <th>Rat</th>\n",
       "    </tr>\n",
       "  </thead>\n",
       "  <tbody>\n",
       "    <tr>\n",
       "      <th>0</th>\n",
       "      <td>0</td>\n",
       "      <td>0</td>\n",
       "      <td>0.0</td>\n",
       "      <td>302.0</td>\n",
       "      <td>2.0</td>\n",
       "      <td>8226</td>\n",
       "      <td>1.0</td>\n",
       "      <td>0.0</td>\n",
       "      <td>0</td>\n",
       "      <td>8726</td>\n",
       "      <td>R1_1</td>\n",
       "      <td>1695837108</td>\n",
       "      <td>12</td>\n",
       "      <td>30</td>\n",
       "      <td>70</td>\n",
       "      <td>70</td>\n",
       "      <td>Gronckle</td>\n",
       "      <td>2023-09-27 17:51:48</td>\n",
       "      <td>R1</td>\n",
       "    </tr>\n",
       "    <tr>\n",
       "      <th>1</th>\n",
       "      <td>1</td>\n",
       "      <td>1</td>\n",
       "      <td>1.0</td>\n",
       "      <td>302.0</td>\n",
       "      <td>2.0</td>\n",
       "      <td>11117</td>\n",
       "      <td>1.0</td>\n",
       "      <td>0.0</td>\n",
       "      <td>1</td>\n",
       "      <td>11617</td>\n",
       "      <td>R1_1</td>\n",
       "      <td>1695837111</td>\n",
       "      <td>12</td>\n",
       "      <td>30</td>\n",
       "      <td>70</td>\n",
       "      <td>70</td>\n",
       "      <td>Gronckle</td>\n",
       "      <td>2023-09-27 17:51:51</td>\n",
       "      <td>R1</td>\n",
       "    </tr>\n",
       "    <tr>\n",
       "      <th>2</th>\n",
       "      <td>2</td>\n",
       "      <td>2</td>\n",
       "      <td>2.0</td>\n",
       "      <td>302.0</td>\n",
       "      <td>2.0</td>\n",
       "      <td>24965</td>\n",
       "      <td>1.0</td>\n",
       "      <td>0.0</td>\n",
       "      <td>1</td>\n",
       "      <td>25465</td>\n",
       "      <td>R1_1</td>\n",
       "      <td>1695837124</td>\n",
       "      <td>12</td>\n",
       "      <td>30</td>\n",
       "      <td>70</td>\n",
       "      <td>70</td>\n",
       "      <td>Gronckle</td>\n",
       "      <td>2023-09-27 17:52:04</td>\n",
       "      <td>R1</td>\n",
       "    </tr>\n",
       "    <tr>\n",
       "      <th>3</th>\n",
       "      <td>3</td>\n",
       "      <td>3</td>\n",
       "      <td>3.0</td>\n",
       "      <td>302.0</td>\n",
       "      <td>2.0</td>\n",
       "      <td>30058</td>\n",
       "      <td>1.0</td>\n",
       "      <td>0.0</td>\n",
       "      <td>0</td>\n",
       "      <td>30558</td>\n",
       "      <td>R1_1</td>\n",
       "      <td>1695837130</td>\n",
       "      <td>12</td>\n",
       "      <td>30</td>\n",
       "      <td>70</td>\n",
       "      <td>70</td>\n",
       "      <td>Gronckle</td>\n",
       "      <td>2023-09-27 17:52:10</td>\n",
       "      <td>R1</td>\n",
       "    </tr>\n",
       "    <tr>\n",
       "      <th>4</th>\n",
       "      <td>4</td>\n",
       "      <td>4</td>\n",
       "      <td>4.0</td>\n",
       "      <td>302.0</td>\n",
       "      <td>2.0</td>\n",
       "      <td>31770</td>\n",
       "      <td>1.0</td>\n",
       "      <td>0.0</td>\n",
       "      <td>1</td>\n",
       "      <td>32270</td>\n",
       "      <td>R1_1</td>\n",
       "      <td>1695837131</td>\n",
       "      <td>12</td>\n",
       "      <td>30</td>\n",
       "      <td>70</td>\n",
       "      <td>70</td>\n",
       "      <td>Gronckle</td>\n",
       "      <td>2023-09-27 17:52:11</td>\n",
       "      <td>R1</td>\n",
       "    </tr>\n",
       "    <tr>\n",
       "      <th>...</th>\n",
       "      <td>...</td>\n",
       "      <td>...</td>\n",
       "      <td>...</td>\n",
       "      <td>...</td>\n",
       "      <td>...</td>\n",
       "      <td>...</td>\n",
       "      <td>...</td>\n",
       "      <td>...</td>\n",
       "      <td>...</td>\n",
       "      <td>...</td>\n",
       "      <td>...</td>\n",
       "      <td>...</td>\n",
       "      <td>...</td>\n",
       "      <td>...</td>\n",
       "      <td>...</td>\n",
       "      <td>...</td>\n",
       "      <td>...</td>\n",
       "      <td>...</td>\n",
       "      <td>...</td>\n",
       "    </tr>\n",
       "    <tr>\n",
       "      <th>76104</th>\n",
       "      <td>76104</td>\n",
       "      <td>76104</td>\n",
       "      <td>269.0</td>\n",
       "      <td>273.0</td>\n",
       "      <td>2.0</td>\n",
       "      <td>1162679</td>\n",
       "      <td>1.0</td>\n",
       "      <td>0.0</td>\n",
       "      <td>1</td>\n",
       "      <td>1163022</td>\n",
       "      <td>R4_167</td>\n",
       "      <td>1702264773</td>\n",
       "      <td>13</td>\n",
       "      <td>80</td>\n",
       "      <td>90</td>\n",
       "      <td>90</td>\n",
       "      <td>Grump</td>\n",
       "      <td>2023-12-11 03:19:33</td>\n",
       "      <td>R4</td>\n",
       "    </tr>\n",
       "    <tr>\n",
       "      <th>76105</th>\n",
       "      <td>76105</td>\n",
       "      <td>76105</td>\n",
       "      <td>270.0</td>\n",
       "      <td>273.0</td>\n",
       "      <td>2.0</td>\n",
       "      <td>1164634</td>\n",
       "      <td>1.0</td>\n",
       "      <td>0.0</td>\n",
       "      <td>1</td>\n",
       "      <td>1164880</td>\n",
       "      <td>R4_167</td>\n",
       "      <td>1702264775</td>\n",
       "      <td>13</td>\n",
       "      <td>80</td>\n",
       "      <td>90</td>\n",
       "      <td>90</td>\n",
       "      <td>Grump</td>\n",
       "      <td>2023-12-11 03:19:35</td>\n",
       "      <td>R4</td>\n",
       "    </tr>\n",
       "    <tr>\n",
       "      <th>76106</th>\n",
       "      <td>76106</td>\n",
       "      <td>76106</td>\n",
       "      <td>271.0</td>\n",
       "      <td>273.0</td>\n",
       "      <td>2.0</td>\n",
       "      <td>1166300</td>\n",
       "      <td>1.0</td>\n",
       "      <td>0.0</td>\n",
       "      <td>1</td>\n",
       "      <td>1166421</td>\n",
       "      <td>R4_167</td>\n",
       "      <td>1702264777</td>\n",
       "      <td>13</td>\n",
       "      <td>80</td>\n",
       "      <td>90</td>\n",
       "      <td>90</td>\n",
       "      <td>Grump</td>\n",
       "      <td>2023-12-11 03:19:37</td>\n",
       "      <td>R4</td>\n",
       "    </tr>\n",
       "    <tr>\n",
       "      <th>76107</th>\n",
       "      <td>76107</td>\n",
       "      <td>76107</td>\n",
       "      <td>272.0</td>\n",
       "      <td>273.0</td>\n",
       "      <td>2.0</td>\n",
       "      <td>1167738</td>\n",
       "      <td>1.0</td>\n",
       "      <td>0.0</td>\n",
       "      <td>1</td>\n",
       "      <td>1167836</td>\n",
       "      <td>R4_167</td>\n",
       "      <td>1702264779</td>\n",
       "      <td>13</td>\n",
       "      <td>80</td>\n",
       "      <td>90</td>\n",
       "      <td>90</td>\n",
       "      <td>Grump</td>\n",
       "      <td>2023-12-11 03:19:39</td>\n",
       "      <td>R4</td>\n",
       "    </tr>\n",
       "    <tr>\n",
       "      <th>76108</th>\n",
       "      <td>76108</td>\n",
       "      <td>76108</td>\n",
       "      <td>273.0</td>\n",
       "      <td>273.0</td>\n",
       "      <td>2.0</td>\n",
       "      <td>1169450</td>\n",
       "      <td>1.0</td>\n",
       "      <td>0.0</td>\n",
       "      <td>1</td>\n",
       "      <td>1170068</td>\n",
       "      <td>R4_167</td>\n",
       "      <td>1702264780</td>\n",
       "      <td>13</td>\n",
       "      <td>80</td>\n",
       "      <td>90</td>\n",
       "      <td>90</td>\n",
       "      <td>Grump</td>\n",
       "      <td>2023-12-11 03:19:40</td>\n",
       "      <td>R4</td>\n",
       "    </tr>\n",
       "  </tbody>\n",
       "</table>\n",
       "<p>453978 rows × 19 columns</p>\n",
       "</div>"
      ],
      "text/plain": [
       "       Unnamed: 0  Trial  blockTrial  blockLength  Target  trialstart  \\\n",
       "0               0      0         0.0        302.0     2.0        8226   \n",
       "1               1      1         1.0        302.0     2.0       11117   \n",
       "2               2      2         2.0        302.0     2.0       24965   \n",
       "3               3      3         3.0        302.0     2.0       30058   \n",
       "4               4      4         4.0        302.0     2.0       31770   \n",
       "...           ...    ...         ...          ...     ...         ...   \n",
       "76104       76104  76104       269.0        273.0     2.0     1162679   \n",
       "76105       76105  76105       270.0        273.0     2.0     1164634   \n",
       "76106       76106  76106       271.0        273.0     2.0     1166300   \n",
       "76107       76107  76107       272.0        273.0     2.0     1167738   \n",
       "76108       76108  76108       273.0        273.0     2.0     1169450   \n",
       "\n",
       "       Decision  Switch  Reward  trialend Session      eptime  task  \\\n",
       "0           1.0     0.0       0      8726    R1_1  1695837108    12   \n",
       "1           1.0     0.0       1     11617    R1_1  1695837111    12   \n",
       "2           1.0     0.0       1     25465    R1_1  1695837124    12   \n",
       "3           1.0     0.0       0     30558    R1_1  1695837130    12   \n",
       "4           1.0     0.0       1     32270    R1_1  1695837131    12   \n",
       "...         ...     ...     ...       ...     ...         ...   ...   \n",
       "76104       1.0     0.0       1   1163022  R4_167  1702264773    13   \n",
       "76105       1.0     0.0       1   1164880  R4_167  1702264775    13   \n",
       "76106       1.0     0.0       1   1166421  R4_167  1702264777    13   \n",
       "76107       1.0     0.0       1   1167836  R4_167  1702264779    13   \n",
       "76108       1.0     0.0       1   1170068  R4_167  1702264780    13   \n",
       "\n",
       "       rewprobfull1  rewprobfull2  rw    animal             datetime Rat  \n",
       "0                30            70  70  Gronckle  2023-09-27 17:51:48  R1  \n",
       "1                30            70  70  Gronckle  2023-09-27 17:51:51  R1  \n",
       "2                30            70  70  Gronckle  2023-09-27 17:52:04  R1  \n",
       "3                30            70  70  Gronckle  2023-09-27 17:52:10  R1  \n",
       "4                30            70  70  Gronckle  2023-09-27 17:52:11  R1  \n",
       "...             ...           ...  ..       ...                  ...  ..  \n",
       "76104            80            90  90     Grump  2023-12-11 03:19:33  R4  \n",
       "76105            80            90  90     Grump  2023-12-11 03:19:35  R4  \n",
       "76106            80            90  90     Grump  2023-12-11 03:19:37  R4  \n",
       "76107            80            90  90     Grump  2023-12-11 03:19:39  R4  \n",
       "76108            80            90  90     Grump  2023-12-11 03:19:40  R4  \n",
       "\n",
       "[453978 rows x 19 columns]"
      ]
     },
     "execution_count": 93,
     "metadata": {},
     "output_type": "execute_result"
    }
   ],
   "source": [
    "sessdf_all"
   ]
  },
  {
   "cell_type": "code",
   "execution_count": 12,
   "id": "7a5cf360-401f-4743-9996-52af5e1b8b52",
   "metadata": {},
   "outputs": [],
   "source": [
    "data = sessdf_all\n",
    "\n",
    "# data = pd.read_csv(os.path.join('mouse_data.csv'))\n",
    "\n",
    "data = data.groupby('Session').filter(lambda x: len(x['Trial'])>50) # make sure there are no empty sessions\n",
    "seq_nback = 3\n",
    "train_prop = 0.7\n",
    "seed = np.random.randint(1000)\n",
    "\n",
    "\n",
    "data = cprobs.add_history_cols(data, seq_nback) # set history labels up front\n",
    "\n",
    "train_session_ids, test_session_ids = train_test_split(data.Session.unique(), \n",
    "                                                       train_size=train_prop, random_state=seed) # split full df for train/test\n",
    "\n",
    "data['block_pos_rev'] = data['blockTrial'] - data['blockLength'] # reverse block position from transition\n",
    "data['model']='rat'\n",
    "data['highPort'] = data['Decision']==data['Target'] # boolean, chose higher probability port\n",
    "\n",
    "train_features, _, _ = reps.pull_sample_dataset(train_session_ids, data)\n",
    "test_features, _, block_pos_core = reps.pull_sample_dataset(test_session_ids, data)\n",
    "bpos_mouse = bp.get_block_position_summaries(block_pos_core)\n",
    "bpos_mouse['condition'] = 'rat'"
   ]
  },
  {
   "cell_type": "markdown",
   "id": "79afa2d8-ce65-4caf-a655-4b1e3899a000",
   "metadata": {},
   "source": [
    "cprobs"
   ]
  },
  {
   "cell_type": "code",
   "execution_count": 13,
   "id": "2148a779-9acd-46a3-8248-8bc0b47c0dba",
   "metadata": {},
   "outputs": [],
   "source": [
    "df_mouse_symm_reference = cprobs.calc_conditional_probs(data, symm=True, action=['Switch']).sort_values('pswitch')\n",
    "df_mouse_symm = cprobs.calc_conditional_probs(block_pos_core, symm=True, action=['Switch', 'Decision'])\n",
    "df_mouse_symm = cprobs.sort_cprobs(df_mouse_symm, df_mouse_symm_reference.history.values)\n",
    "bp.plot_sequences(df_mouse_symm, alpha=0.5) "
   ]
  },
  {
   "cell_type": "code",
   "execution_count": 14,
   "id": "b61343af-2993-4ab8-8d8d-ec76ffe86ca8",
   "metadata": {
    "scrolled": true
   },
   "outputs": [],
   "source": [
    "L1 = 1 # choice history\n",
    "L2 =  5 # choice * reward history\n",
    "L3 = 0\n",
    "memories = [L1, L3, L2, 1]\n",
    "# print(memories)\n",
    "lr = models.fit_logreg_policy(train_features, memories) # refit model with reduced histories, training set\n",
    "model_probs = models.compute_logreg_probs(test_features, lr_args=[lr, memories])\n",
    "# model_probs = models.fit_logreg_policy(test_features, memories )"
   ]
  },
  {
   "cell_type": "code",
   "execution_count": 34,
   "id": "026c27c7-5edd-428e-8378-197838ea3b74",
   "metadata": {
    "scrolled": true
   },
   "outputs": [],
   "source": [
    "pd.options.display.max_rows = 1000\n",
    "model_choices, model_switches = models.model_to_policy(model_probs, test_features, policy='softmax', e = 0.2, temp = 1.25)\n",
    "block_pos_model = reps.reconstruct_block_pos(block_pos_core, model_choices, model_switches)\n",
    "bpos_model = bp.get_block_position_summaries(block_pos_model)\n",
    "# print(bpos_model)\n",
    "bpos_model['condition'] = 'model' # label model predictions as such\n",
    "condition_series = pd.DataFrame({'condition':['model']*len(bpos_model)}, index = bpos_model.index)\n",
    "# print(condition_series)\n",
    "bpos_model = pd.concat([bpos_model, condition_series])\n",
    "bpos_model_v_mouse = pd.concat((bpos_mouse, bpos_model)) # agg df with model predictions and mouse data\n",
    "\n",
    "# print(bpos_model_v_mouse.head(50))\n",
    "\n",
    "color_dict = {'rat': 'gray', 'model': sns.color_palette()[0]}#plot_config['model_seq_col']}\n",
    "bp.plot_by_block_position(bpos_model_v_mouse, subset='condition', color_dict = color_dict)\n",
    "\n",
    "symm_cprobs_model = cprobs.calc_conditional_probs(block_pos_model, symm=True, action=['Switch'])\n",
    "symm_cprobs_model = cprobs.sort_cprobs(symm_cprobs_model, df_mouse_symm.history.values)\n",
    "bp.plot_sequences(df_mouse_symm, overlay=symm_cprobs_model, main_label='rat', overlay_label='model')\n",
    "\n",
    "bp.plot_scatter(df_mouse_symm, symm_cprobs_model)"
   ]
  },
  {
   "cell_type": "code",
   "execution_count": 99,
   "id": "ed16fd3c-461d-42d9-ba2f-bd5c34a3a078",
   "metadata": {
    "jupyter": {
     "source_hidden": true
    },
    "scrolled": true
   },
   "outputs": [
    {
     "data": {
      "text/plain": [
       "Text(0.5, 1.0, '')"
      ]
     },
     "execution_count": 99,
     "metadata": {},
     "output_type": "execute_result"
    }
   ],
   "source": [
    "raw_cm, norm_cm = bp.calc_confusion_matrix(df_mouse_symm, 'pswitch' ,df_model = symm_cprobs_model  )\n",
    "plt.figure()\n",
    "sns.heatmap(norm_cm, annot = True, fmt = 'g')\n",
    "plt.title('')\n"
   ]
  },
  {
   "cell_type": "code",
   "execution_count": 101,
   "id": "4cc463cb-0751-40ac-bbfd-546afef3f264",
   "metadata": {
    "jupyter": {
     "source_hidden": true
    },
    "scrolled": true
   },
   "outputs": [
    {
     "data": {
      "text/plain": [
       "<sklearn.metrics._plot.roc_curve.RocCurveDisplay at 0x23b5ac6b290>"
      ]
     },
     "execution_count": 101,
     "metadata": {},
     "output_type": "execute_result"
    }
   ],
   "source": [
    "from sklearn.metrics import RocCurveDisplay\n",
    "RocCurveDisplay.from_predictions(block_pos_core.Switch, block_pos_model.Switch)"
   ]
  },
  {
   "cell_type": "code",
   "execution_count": 37,
   "id": "1889806e-d417-4671-8fc5-5b1b60746c21",
   "metadata": {
    "scrolled": true
   },
   "outputs": [],
   "source": [
    "# norm_cm = np.array([[0.95, 0.05], [0.76, 0.24]])"
   ]
  },
  {
   "cell_type": "code",
   "execution_count": 25,
   "id": "7da51504-56c6-4608-a040-f9524647717f",
   "metadata": {
    "jupyter": {
     "source_hidden": true
    }
   },
   "outputs": [
    {
     "data": {
      "text/plain": [
       "0.2634791028514596"
      ]
     },
     "execution_count": 25,
     "metadata": {},
     "output_type": "execute_result"
    }
   ],
   "source": [
    "cm = norm_cm\n",
    "recall_per_class = np.diag(cm)/np.sum(cm)\n",
    "balanced_accuracy = np.mean(recall_per_class)\n",
    "balanced_accuracy"
   ]
  },
  {
   "cell_type": "code",
   "execution_count": 26,
   "id": "d3e8be63-4a90-4049-8c18-b96ff13a5dcb",
   "metadata": {
    "jupyter": {
     "source_hidden": true
    }
   },
   "outputs": [
    {
     "data": {
      "text/plain": [
       "0.6721864315029584"
      ]
     },
     "execution_count": 26,
     "metadata": {},
     "output_type": "execute_result"
    }
   ],
   "source": [
    "cm = norm_cm\n",
    "precision = cm[0][0]/(cm[0][0]+cm[1][0])\n",
    "recall = cm[0][0]/(cm[0][0]+cm[0][1])\n",
    "f1 = 2*(precision*recall/(precision+recall))\n",
    "\n",
    "f1"
   ]
  },
  {
   "cell_type": "code",
   "execution_count": 84,
   "id": "967d403e-e076-4850-aa98-220352ebd7b9",
   "metadata": {
    "jupyter": {
     "source_hidden": true
    }
   },
   "outputs": [],
   "source": [
    "coefs_grump = lr.coef_"
   ]
  },
  {
   "cell_type": "code",
   "execution_count": 86,
   "id": "c1273c60-86dc-4bd0-bbdf-4d850662c94b",
   "metadata": {},
   "outputs": [],
   "source": [
    "coefs_list = [coefs_gronckle, coefs_toothless, coefs_brat, coefs_grump]"
   ]
  },
  {
   "cell_type": "code",
   "execution_count": 58,
   "id": "06cd6ce1-2e44-4417-b7c7-56a9f33d572b",
   "metadata": {
    "collapsed": true,
    "jupyter": {
     "outputs_hidden": true,
     "source_hidden": true
    },
    "scrolled": true
   },
   "outputs": [
    {
     "ename": "NameError",
     "evalue": "name 'coefs_list' is not defined",
     "output_type": "error",
     "traceback": [
      "\u001b[1;31m---------------------------------------------------------------------------\u001b[0m",
      "\u001b[1;31mNameError\u001b[0m                                 Traceback (most recent call last)",
      "Cell \u001b[1;32mIn[58], line 4\u001b[0m\n\u001b[0;32m      2\u001b[0m colors \u001b[38;5;241m=\u001b[39m [\u001b[38;5;124m'\u001b[39m\u001b[38;5;124mg\u001b[39m\u001b[38;5;124m'\u001b[39m, \u001b[38;5;124m'\u001b[39m\u001b[38;5;124mg\u001b[39m\u001b[38;5;124m'\u001b[39m, \u001b[38;5;124m'\u001b[39m\u001b[38;5;124mr\u001b[39m\u001b[38;5;124m'\u001b[39m, \u001b[38;5;124m'\u001b[39m\u001b[38;5;124mr\u001b[39m\u001b[38;5;124m'\u001b[39m]\n\u001b[0;32m      3\u001b[0m c \u001b[38;5;241m=\u001b[39m \u001b[38;5;241m0\u001b[39m\n\u001b[1;32m----> 4\u001b[0m \u001b[38;5;28;01mfor\u001b[39;00m coefs \u001b[38;5;129;01min\u001b[39;00m coefs_list:\n\u001b[0;32m      5\u001b[0m     \u001b[38;5;28mprint\u001b[39m(c)\n\u001b[0;32m      6\u001b[0m     ax\u001b[38;5;241m.\u001b[39mplot(np\u001b[38;5;241m.\u001b[39marange(\u001b[38;5;241m1\u001b[39m, \u001b[38;5;241m7\u001b[39m, \u001b[38;5;241m1\u001b[39m), coefs[\u001b[38;5;241m0\u001b[39m][\u001b[38;5;241m1\u001b[39m:], color \u001b[38;5;241m=\u001b[39m colors[c])\n",
      "\u001b[1;31mNameError\u001b[0m: name 'coefs_list' is not defined"
     ]
    }
   ],
   "source": [
    "fig, ax = plt.subplots()\n",
    "colors = ['g', 'g', 'r', 'r']\n",
    "c = 0\n",
    "for coefs in coefs_list:\n",
    "    print(c)\n",
    "    ax.plot(np.arange(1, 7, 1), coefs[0][1:], color = colors[c])\n",
    "    c+=1\n",
    "ax.plot(np.arange(1, 7, 1), np.zeros(6), linestyle = '--', color = 'k', alpha = 0.5)\n",
    "sns.despine()"
   ]
  },
  {
   "cell_type": "code",
   "execution_count": 19,
   "id": "4656ed09-0980-41e4-a808-28e6983ccd0b",
   "metadata": {},
   "outputs": [],
   "source": [
    "sort_order = pd.read_csv('cprobs sort order.csv')\n",
    "sort_order = list(sort_order['0'].values)"
   ]
  },
  {
   "cell_type": "code",
   "execution_count": 20,
   "id": "d8ce89ab-5964-488c-bf48-5255a2d960ca",
   "metadata": {},
   "outputs": [],
   "source": [
    "def group_choices_v_model(cprobs_str, cprobs_model, cprobs_str_err, cprobs_model_err, sort_order, comb_list = ['aaa', 'aab', 'aba', 'abb']):\n",
    "    '''\n",
    "    group conditinal probabilities by choice history\n",
    "    cprobs_str, cprobs_model : averaged dataframes for str and unstr environment. Insert empty dataframe to exclude.\n",
    "    comb_list: list of choice history combinaitons\n",
    "    sort_order: sorting for history combinations, list\n",
    "    '''\n",
    "    \n",
    "    \n",
    "    sns.set_palette('deep')\n",
    "    \n",
    "    cprobs_str_list = cprobs_str\n",
    "    cprobs_ustr_list = cprobs_model\n",
    "    \n",
    "    cprobs_str_df = pd.DataFrame(data = {'history':sort_order, 'pswitch': cprobs_str})\n",
    "    cprobs_ustr_df = pd.DataFrame(data = {'history':sort_order, 'pswitch': cprobs_model})\n",
    "    \n",
    "    cprobs_str_lower = cprobs_str_df['history'].map(lambda x : x.lower())\n",
    "    cprobs_ustr_lower = cprobs_ustr_df['history'].map(lambda x : x.lower())\n",
    "\n",
    "\n",
    "    fig, ax = plt.subplots(2, 2, figsize = (12, 6), layout = 'tight')\n",
    "    fig.suptitle('Model vs Rat')\n",
    "    loc = [(0, 0), (0, 1), (1, 0), (1,1)] #list of (row, column) tuples\n",
    "    i = 0\n",
    "    for comb in comb_list:\n",
    "        row, column = loc[i][0], loc[i][1] \n",
    "        #store indices of each combination:\n",
    "        comb_str = cprobs_str_lower[cprobs_str_lower== comb].index.tolist()\n",
    "        comb_ustr = cprobs_ustr_lower[cprobs_ustr_lower== comb].index.tolist()\n",
    "        #calculate standard error\n",
    "        err_str = cprobs_str_err.iloc[comb_str]\n",
    "        err_ustr = cprobs_model_err.iloc[comb_ustr]\n",
    "        #plot\n",
    "        df_str = cprobs_str_df\n",
    "        df_ustr = cprobs_ustr_df\n",
    "\n",
    "        \n",
    "        ax[row][column].bar(x =df_str[(df_str['history'].map(lambda x : x.lower())) == comb].history , height = df_str[(df_str['history'].map(lambda x : x.lower())) == comb].pswitch, color = sns.color_palette()[0], alpha = 1, yerr = err_str)\n",
    "        ax[row][column].bar(x = df_ustr[(df_ustr['history'].map(lambda x : x.lower())) == comb].history, height = df_ustr[(df_ustr['history'].map(lambda x : x.lower())) == comb].pswitch, color = 'k', alpha = 0.4, yerr = err_ustr)\n",
    "        ax[row][column].set_ylim(bottom = 0)\n",
    "        ax[row][column].title.set_text(comb_list[i].upper())\n",
    "\n",
    "        i+=1\n",
    "    \n",
    "    return"
   ]
  },
  {
   "cell_type": "code",
   "execution_count": 65,
   "id": "f82e1d76-ec71-4951-b672-220d0b9f69c9",
   "metadata": {
    "scrolled": true
   },
   "outputs": [],
   "source": [
    "\n",
    "group_choices_v_model(df_mouse_symm.pswitch.values, symm_cprobs_model.pswitch.values, (df_mouse_symm.pswitch_err), (symm_cprobs_model.pswitch_err), sort_order, comb_list = ['aaa', 'aab', 'aba', 'abb'])\n"
   ]
  },
  {
   "cell_type": "code",
   "execution_count": 46,
   "id": "67df261a-46cf-4907-8a02-5576886e67ce",
   "metadata": {},
   "outputs": [],
   "source": [
    "cprobs_str_list = list(df_mouse_symm.pswitch.values)\n",
    "cprobs_ustr_list = list(df_mouse_symm.pswitch.values)"
   ]
  },
  {
   "cell_type": "code",
   "execution_count": 64,
   "id": "d03e11ca-d379-4635-8686-c5039824006d",
   "metadata": {
    "scrolled": true
   },
   "outputs": [],
   "source": [
    "\n",
    "group_by_reward(df_mouse_symm, symm_cprobs_model, df_mouse_symm.pswitch, symm_cprobs_model.pswitch, df_mouse_symm.pswitch.values, symm_cprobs_model.pswitch.values, sort_order)"
   ]
  },
  {
   "cell_type": "code",
   "execution_count": null,
   "id": "51b6cccb-c81b-40f2-b2ac-38865d2ccb05",
   "metadata": {},
   "outputs": [],
   "source": []
  }
 ],
 "metadata": {
  "kernelspec": {
   "display_name": "Python 3 (ipykernel)",
   "language": "python",
   "name": "python3"
  },
  "language_info": {
   "codemirror_mode": {
    "name": "ipython",
    "version": 3
   },
   "file_extension": ".py",
   "mimetype": "text/x-python",
   "name": "python",
   "nbconvert_exporter": "python",
   "pygments_lexer": "ipython3",
   "version": "3.11.4"
  },
  "widgets": {
   "application/vnd.jupyter.widget-state+json": {
    "state": {},
    "version_major": 2,
    "version_minor": 0
   }
  }
 },
 "nbformat": 4,
 "nbformat_minor": 5
}
